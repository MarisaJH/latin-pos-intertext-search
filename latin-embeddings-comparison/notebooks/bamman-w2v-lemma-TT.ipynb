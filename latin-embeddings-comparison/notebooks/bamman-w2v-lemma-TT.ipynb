{
 "cells": [
  {
   "cell_type": "code",
   "execution_count": null,
   "metadata": {},
   "outputs": [],
   "source": [
    "# This notebook creates a word2vec model using the Bamman 2012 corpus lemmatized with TreeTagger"
   ]
  },
  {
   "cell_type": "code",
   "execution_count": 1,
   "metadata": {},
   "outputs": [
    {
     "name": "stderr",
     "output_type": "stream",
     "text": [
      "/work/pi_brenocon_umass_edu/marisa/poetry_cache/virtualenvs/naacl-hlt-2021-latin-intertextuality-ZPY7aNxM-py3.9/lib/python3.9/site-packages/tqdm/auto.py:21: TqdmWarning: IProgress not found. Please update jupyter and ipywidgets. See https://ipywidgets.readthedocs.io/en/stable/user_install.html\n",
      "  from .autonotebook import tqdm as notebook_tqdm\n"
     ]
    }
   ],
   "source": [
    "# Imports\n",
    "\n",
    "import os\n",
    "import re\n",
    "import time\n",
    "import multiprocessing\n",
    "\n",
    "import gensim\n",
    "from gensim.models import Word2Vec\n",
    "\n",
    "#from cltk.stem.latin.j_v import JVReplacer\n",
    "#from cltk.tokenize.sentence import TokenizeSentence\n",
    "from cltk.sentence.lat import LatinPunktSentenceTokenizer\n",
    "#from cltk.lemmatize.latin.backoff import BackoffLatinLemmatizer\n",
    "from cltk.lemmatize.lat import LatinBackoffLemmatizer as BackoffLatinLemmatizer\n",
    "from tqdm.notebook import tqdm"
   ]
  },
  {
   "cell_type": "code",
   "execution_count": 2,
   "metadata": {},
   "outputs": [],
   "source": [
    "class JVReplacer:  # pylint: disable=too-few-public-methods\n",
    "    \"\"\"Replace J/V with I/U.\n",
    "    Latin alphabet does not distinguish between J/j and I/i and V/v and U/u;\n",
    "    Yet, many texts bear the influence of later editors and the predilections of other languages.\n",
    "\n",
    "    In practical terms, the JV substitution is recommended on all Latin text preprocessing; it\n",
    "    helps to collapse the search space.\n",
    "\n",
    "    >>> replacer = JVReplacer()\n",
    "    >>> replacer.replace(\"Julius Caesar\")\n",
    "    'Iulius Caesar'\n",
    "\n",
    "    >>> replacer.replace(\"In vino veritas.\")\n",
    "    'In uino ueritas.'\n",
    "\n",
    "    \"\"\"\n",
    "\n",
    "    def __init__(self):\n",
    "        \"\"\"Initialization for JVReplacer, reads replacement pattern tuple.\"\"\"\n",
    "        patterns = [(r\"j\", \"i\"), (r\"v\", \"u\"), (r\"J\", \"I\"), (r\"V\", \"U\")]\n",
    "        self.patterns = [(re.compile(regex), repl) for (regex, repl) in patterns]\n",
    "\n",
    "    def replace(self, text):\n",
    "        \"\"\"Do j/v replacement\"\"\"\n",
    "        for pattern, repl in self.patterns:\n",
    "            text = re.subn(pattern, repl, text)[0]\n",
    "        return text"
   ]
  },
  {
   "cell_type": "code",
   "execution_count": 3,
   "metadata": {},
   "outputs": [],
   "source": [
    "# Set up NLP tools\n",
    "\n",
    "replacer = JVReplacer()\n",
    "lemmatizer = BackoffLatinLemmatizer()\n",
    "tokenizer = LatinPunktSentenceTokenizer() #TokenizeSentence('latin')"
   ]
  },
  {
   "cell_type": "code",
   "execution_count": 4,
   "metadata": {},
   "outputs": [
    {
     "ename": "TreeTaggerError",
     "evalue": "Can't locate TreeTagger directory (and no TAGDIR specified).",
     "output_type": "error",
     "traceback": [
      "\u001b[0;31m---------------------------------------------------------------------------\u001b[0m",
      "\u001b[0;31mTreeTaggerError\u001b[0m                           Traceback (most recent call last)",
      "Cell \u001b[0;32mIn[4], line 10\u001b[0m\n\u001b[1;32m      3\u001b[0m \u001b[38;5;28;01mimport\u001b[39;00m \u001b[38;5;21;01mtreetaggerwrapper\u001b[39;00m\n\u001b[1;32m      5\u001b[0m \u001b[38;5;66;03m# Create Latin tagger\u001b[39;00m\n\u001b[1;32m      6\u001b[0m \u001b[38;5;66;03m# NB: TreeTagger must be installed for this to work properly;\u001b[39;00m\n\u001b[1;32m      7\u001b[0m \u001b[38;5;66;03m# cf. https://www.cis.uni-muenchen.de/~schmid/tools/TreeTagger/ and https://treetaggerwrapper.readthedocs.io/en/latest/\u001b[39;00m\n\u001b[1;32m      8\u001b[0m \u001b[38;5;66;03m# Using the Latin parameter file at https://www.cis.uni-muenchen.de/~schmid/tools/TreeTagger/data/latin.par.gz\u001b[39;00m\n\u001b[0;32m---> 10\u001b[0m TT \u001b[38;5;241m=\u001b[39m \u001b[43mtreetaggerwrapper\u001b[49m\u001b[38;5;241;43m.\u001b[39;49m\u001b[43mTreeTagger\u001b[49m\u001b[43m(\u001b[49m\u001b[43mTAGLANG\u001b[49m\u001b[38;5;241;43m=\u001b[39;49m\u001b[38;5;124;43m'\u001b[39;49m\u001b[38;5;124;43mla\u001b[39;49m\u001b[38;5;124;43m'\u001b[39;49m\u001b[43m,\u001b[49m\u001b[43m \u001b[49m\u001b[43mTAGOPT\u001b[49m\u001b[38;5;241;43m=\u001b[39;49m\u001b[38;5;124;43m'\u001b[39;49m\u001b[38;5;124;43m-token -lemma -sgml -quiet\u001b[39;49m\u001b[38;5;124;43m'\u001b[39;49m\u001b[43m)\u001b[49m\n\u001b[1;32m     12\u001b[0m \u001b[38;5;28;01mdef\u001b[39;00m \u001b[38;5;21mlemmatize\u001b[39m(text):\n\u001b[1;32m     13\u001b[0m     lemmas \u001b[38;5;241m=\u001b[39m []\n",
      "File \u001b[0;32m/work/pi_brenocon_umass_edu/marisa/poetry_cache/virtualenvs/naacl-hlt-2021-latin-intertextuality-ZPY7aNxM-py3.9/lib/python3.9/site-packages/treetaggerwrapper.py:1006\u001b[0m, in \u001b[0;36mTreeTagger.__init__\u001b[0;34m(self, **kargs)\u001b[0m\n\u001b[1;32m   1004\u001b[0m logger\u001b[38;5;241m.\u001b[39mdebug(\u001b[38;5;124m\"\u001b[39m\u001b[38;5;124mUsing treetaggerwrapper.py from \u001b[39m\u001b[38;5;132;01m%s\u001b[39;00m\u001b[38;5;124m\"\u001b[39m, osp\u001b[38;5;241m.\u001b[39mabspath(\u001b[38;5;18m__file__\u001b[39m))\n\u001b[1;32m   1005\u001b[0m \u001b[38;5;28mself\u001b[39m\u001b[38;5;241m.\u001b[39m_set_language(kargs)\n\u001b[0;32m-> 1006\u001b[0m \u001b[38;5;28;43mself\u001b[39;49m\u001b[38;5;241;43m.\u001b[39;49m\u001b[43m_set_tagger\u001b[49m\u001b[43m(\u001b[49m\u001b[43mkargs\u001b[49m\u001b[43m)\u001b[49m\n\u001b[1;32m   1007\u001b[0m \u001b[38;5;28mself\u001b[39m\u001b[38;5;241m.\u001b[39m_set_preprocessor(kargs)\n\u001b[1;32m   1008\u001b[0m \u001b[38;5;66;03m# Note: TreeTagger process is started later, when really needed.\u001b[39;00m\n",
      "File \u001b[0;32m/work/pi_brenocon_umass_edu/marisa/poetry_cache/virtualenvs/naacl-hlt-2021-latin-intertextuality-ZPY7aNxM-py3.9/lib/python3.9/site-packages/treetaggerwrapper.py:1048\u001b[0m, in \u001b[0;36mTreeTagger._set_tagger\u001b[0;34m(self, kargs)\u001b[0m\n\u001b[1;32m   1045\u001b[0m     \u001b[38;5;28;01melse\u001b[39;00m:\n\u001b[1;32m   1046\u001b[0m         logger\u001b[38;5;241m.\u001b[39merror(\u001b[38;5;124m\"\u001b[39m\u001b[38;5;124mCan\u001b[39m\u001b[38;5;124m'\u001b[39m\u001b[38;5;124mt locate TreeTagger directory (and \u001b[39m\u001b[38;5;124m\"\u001b[39m\n\u001b[1;32m   1047\u001b[0m                      \u001b[38;5;124m\"\u001b[39m\u001b[38;5;124mno TAGDIR specified).\u001b[39m\u001b[38;5;124m\"\u001b[39m)\n\u001b[0;32m-> 1048\u001b[0m         \u001b[38;5;28;01mraise\u001b[39;00m TreeTaggerError(\u001b[38;5;124m\"\u001b[39m\u001b[38;5;124mCan\u001b[39m\u001b[38;5;124m'\u001b[39m\u001b[38;5;124mt locate TreeTagger directory (and \u001b[39m\u001b[38;5;124m\"\u001b[39m\n\u001b[1;32m   1049\u001b[0m                               \u001b[38;5;124m\"\u001b[39m\u001b[38;5;124mno TAGDIR specified).\u001b[39m\u001b[38;5;124m\"\u001b[39m)\n\u001b[1;32m   1050\u001b[0m \u001b[38;5;28mself\u001b[39m\u001b[38;5;241m.\u001b[39mtagdir \u001b[38;5;241m=\u001b[39m os\u001b[38;5;241m.\u001b[39mpath\u001b[38;5;241m.\u001b[39mabspath(\u001b[38;5;28mself\u001b[39m\u001b[38;5;241m.\u001b[39mtagdir)\n\u001b[1;32m   1051\u001b[0m \u001b[38;5;28;01mif\u001b[39;00m \u001b[38;5;129;01mnot\u001b[39;00m os\u001b[38;5;241m.\u001b[39mpath\u001b[38;5;241m.\u001b[39misdir(\u001b[38;5;28mself\u001b[39m\u001b[38;5;241m.\u001b[39mtagdir):\n",
      "\u001b[0;31mTreeTaggerError\u001b[0m: Can't locate TreeTagger directory (and no TAGDIR specified)."
     ]
    }
   ],
   "source": [
    "%%capture\n",
    "\n",
    "# Specific imports\n",
    "\n",
    "import treetaggerwrapper\n",
    "\n",
    "# Create Latin tagger\n",
    "# NB: TreeTagger must be installed for this to work properly;\n",
    "# cf. https://www.cis.uni-muenchen.de/~schmid/tools/TreeTagger/ and https://treetaggerwrapper.readthedocs.io/en/latest/\n",
    "# Using the Latin parameter file at https://www.cis.uni-muenchen.de/~schmid/tools/TreeTagger/data/latin.par.gz\n",
    "\n",
    "TT = treetaggerwrapper.TreeTagger(TAGLANG='la', TAGOPT='-token -lemma -sgml -quiet')\n",
    "\n",
    "def lemmatize(text):\n",
    "    lemmas = []\n",
    "    tags = TT.tag_text(text)    \n",
    "    for tag in tags:\n",
    "        if '\\t' in tag:\n",
    "            lemmas.append(tag.split('\\t')[2].replace('-a',''))\n",
    "        else:\n",
    "            lemmas.append('<unknown>')\n",
    "    return lemmas"
   ]
  },
  {
   "cell_type": "code",
   "execution_count": 5,
   "metadata": {},
   "outputs": [],
   "source": [
    "# Preprocess texts\n",
    "\n",
    "def preprocess(text):\n",
    "    import html\n",
    "    import string\n",
    "    import re\n",
    "        \n",
    "    text = text.lower()\n",
    "    text = replacer.replace(text) #Normalize u/v & i/j\n",
    "    \n",
    "    punctuation =\"\\\"#$%&\\'()*+,-/:;<=>@[\\]^_`{|}~.?!«»\"\n",
    "    translator = str.maketrans({key: \" \" for key in punctuation})\n",
    "    text = text.translate(translator)\n",
    "\n",
    "    translator = str.maketrans({key: \" \" for key in '0123456789'})\n",
    "    text = text.translate(translator)\n",
    "    return text"
   ]
  },
  {
   "cell_type": "code",
   "execution_count": null,
   "metadata": {},
   "outputs": [],
   "source": [
    "# This step requires the Bamman corpus (latin_txt.tar.gz) to be downloaded, placed in the folder ../models/data/, \n",
    "# uncompressed; i.e. there should be a folder of files named ../models/data/latin_txt. The Bamman corpus can be \n",
    "# downloaded from https://docs.google.com/uc?id=0B5pGKi0iCsnbZEdHZ3N6d216am8&export=download; see more at:\n",
    "# http://www.cs.cmu.edu/~dbamman/latin.html"
   ]
  },
  {
   "cell_type": "code",
   "execution_count": null,
   "metadata": {},
   "outputs": [],
   "source": [
    "#helper iterator class to process raw text and to handle file by file. Avoids memory issues. \n",
    "\n",
    "class MySentences(object):\n",
    "    def __init__(self, dirname):\n",
    "        self.dirname = dirname\n",
    " \n",
    "    \n",
    "    def __iter__(self):\n",
    "        for fname in tqdm(os.listdir(self.dirname)):\n",
    "            with open(os.path.join(self.dirname, fname), encoding='utf-8') as file:\n",
    "                #sents = tokenizer.tokenize_sentences(file.read().replace('\\n', ''))\n",
    "                sents = file.readlines()\n",
    "                for sent in sents:\n",
    "                    sent = preprocess(sent)\n",
    "                    lemmas = lemmatize(sent)\n",
    "                    yield lemmas"
   ]
  },
  {
   "cell_type": "code",
   "execution_count": null,
   "metadata": {},
   "outputs": [],
   "source": [
    "%%time\n",
    "\n",
    "# Build Latin word2vec on Bamman data\n",
    "\n",
    "cores = multiprocessing.cpu_count()\n",
    "\n",
    "latin_w2v_model = Word2Vec(MySentences(\"../models/data/cc100-latin/la.nolorem.tok.latalphabetonly.v2.txt\"), size = 50, min_count=100, workers=cores-1, iter =1)"
   ]
  },
  {
   "cell_type": "code",
   "execution_count": null,
   "metadata": {},
   "outputs": [],
   "source": [
    "latin_w2v_model.save(\"../models/latin_w2v_bamman_lemma_tt\")"
   ]
  }
 ],
 "metadata": {
  "kernelspec": {
   "display_name": "Python 3",
   "language": "python",
   "name": "python3"
  },
  "language_info": {
   "codemirror_mode": {
    "name": "ipython",
    "version": 3
   },
   "file_extension": ".py",
   "mimetype": "text/x-python",
   "name": "python",
   "nbconvert_exporter": "python",
   "pygments_lexer": "ipython3",
   "version": "3.9.20"
  }
 },
 "nbformat": 4,
 "nbformat_minor": 2
}
