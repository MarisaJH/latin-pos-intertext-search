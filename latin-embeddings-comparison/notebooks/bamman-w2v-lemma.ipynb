{
 "cells": [
  {
   "cell_type": "code",
   "execution_count": null,
   "metadata": {},
   "outputs": [],
   "source": [
    "# This notebook creates a word2vec model using the Bamman 2012 corpus lemmatized with the CLTK BackoffLatinLemmatizer"
   ]
  },
  {
   "cell_type": "code",
   "execution_count": 9,
   "metadata": {},
   "outputs": [],
   "source": [
    "# Imports\n",
    "\n",
    "import html\n",
    "import string\n",
    "import re\n",
    "import os\n",
    "import glob\n",
    "import time\n",
    "import multiprocessing\n",
    "\n",
    "import collections\n",
    "\n",
    "import gensim\n",
    "from gensim.models import Word2Vec, FastText\n",
    "\n",
    "#from cltk.stem.latin.j_v import JVReplacer\n",
    "#from cltk.tokenize.sentence import TokenizeSentence\n",
    "from cltk.sentence.lat import LatinPunktSentenceTokenizer\n",
    "from nltk.tokenize import PunktSentenceTokenizer\n",
    "#from cltk.lemmatize.latin.backoff import BackoffLatinLemmatizer\n",
    "from cltk.lemmatize.lat import LatinBackoffLemmatizer as BackoffLatinLemmatizer\n",
    "\n",
    "from matplotlib import pyplot\n",
    "\n",
    "from pprint import pprint\n",
    "import pickle\n",
    "\n",
    "from nltk import word_tokenize"
   ]
  },
  {
   "cell_type": "code",
   "execution_count": 2,
   "metadata": {},
   "outputs": [],
   "source": [
    "class JVReplacer:  # pylint: disable=too-few-public-methods\n",
    "    \"\"\"Replace J/V with I/U.\n",
    "    Latin alphabet does not distinguish between J/j and I/i and V/v and U/u;\n",
    "    Yet, many texts bear the influence of later editors and the predilections of other languages.\n",
    "\n",
    "    In practical terms, the JV substitution is recommended on all Latin text preprocessing; it\n",
    "    helps to collapse the search space.\n",
    "\n",
    "    >>> replacer = JVReplacer()\n",
    "    >>> replacer.replace(\"Julius Caesar\")\n",
    "    'Iulius Caesar'\n",
    "\n",
    "    >>> replacer.replace(\"In vino veritas.\")\n",
    "    'In uino ueritas.'\n",
    "\n",
    "    \"\"\"\n",
    "\n",
    "    def __init__(self):\n",
    "        \"\"\"Initialization for JVReplacer, reads replacement pattern tuple.\"\"\"\n",
    "        patterns = [(r\"j\", \"i\"), (r\"v\", \"u\"), (r\"J\", \"I\"), (r\"V\", \"U\")]\n",
    "        self.patterns = [(re.compile(regex), repl) for (regex, repl) in patterns]\n",
    "\n",
    "    def replace(self, text):\n",
    "        \"\"\"Do j/v replacement\"\"\"\n",
    "        for pattern, repl in self.patterns:\n",
    "            text = re.subn(pattern, repl, text)[0]\n",
    "        return text"
   ]
  },
  {
   "cell_type": "code",
   "execution_count": 3,
   "metadata": {},
   "outputs": [],
   "source": [
    "# Set up NLP tools\n",
    "\n",
    "replacer = JVReplacer()\n",
    "tokenizer = LatinPunktSentenceTokenizer() #PunktSentenceTokenizer()\n",
    "lemmatizer = BackoffLatinLemmatizer()"
   ]
  },
  {
   "cell_type": "code",
   "execution_count": 4,
   "metadata": {},
   "outputs": [],
   "source": [
    "# Preprocess texts\n",
    "\n",
    "def preprocess(text):\n",
    "        \n",
    "    text = text.lower()\n",
    "    text = replacer.replace(text) #Normalize u/v & i/j\n",
    "    \n",
    "    punctuation =\"\\\"#$%&\\'()*+,-/:;<=>@[\\]^_`{|}~.?!«»\"\n",
    "    translator = str.maketrans({key: \" \" for key in punctuation})\n",
    "    text = text.translate(translator)\n",
    "\n",
    "    translator = str.maketrans({key: \" \" for key in '0123456789'})\n",
    "    text = text.translate(translator)\n",
    "    return text"
   ]
  },
  {
   "cell_type": "code",
   "execution_count": 14,
   "metadata": {},
   "outputs": [],
   "source": [
    "#helper iterator class to process raw text and to handle file by file. Avoids memory issues. \n",
    "class MySentences(object):\n",
    "    def __init__(self, dirname):\n",
    "        self.dirname = dirname\n",
    " \n",
    "    \n",
    "    def __iter__(self):\n",
    "        #tokenizer = LatinPunktSentenceTokenizer() #TokenizeSentence('latin')\n",
    "        for fname in glob.glob(self.dirname + '/*.txt'):\n",
    "            with open(fname, encoding='utf-8') as file:\n",
    "                #sents = tokenizer.tokenize_sentences(file.read().replace('\\n', ''))\n",
    "                sents = file.readlines()\n",
    "                sents = [[token[1] for token in lemmatizer.lemmatize(preprocess(sent).split())] for sent in sents]\n",
    "                for sent in sents:\n",
    "                    yield sent"
   ]
  },
  {
   "cell_type": "code",
   "execution_count": null,
   "metadata": {},
   "outputs": [],
   "source": [
    "Word2Vec()"
   ]
  },
  {
   "cell_type": "code",
   "execution_count": 15,
   "metadata": {},
   "outputs": [
    {
     "ename": "",
     "evalue": "",
     "output_type": "error",
     "traceback": [
      "\u001b[1;31mThe Kernel crashed while executing code in the current cell or a previous cell. \n",
      "\u001b[1;31mPlease review the code in the cell(s) to identify a possible cause of the failure. \n",
      "\u001b[1;31mClick <a href='https://aka.ms/vscodeJupyterKernelCrash'>here</a> for more info. \n",
      "\u001b[1;31mView Jupyter <a href='command:jupyter.viewOutput'>log</a> for further details."
     ]
    }
   ],
   "source": [
    "%%time\n",
    "\n",
    "# Build Latin word2vec on Bamman data\n",
    "\n",
    "cores = multiprocessing.cpu_count()\n",
    "\n",
    "latin_w2v_model = Word2Vec(MySentences(\"../models/data/cc100-latin\"), vector_size = 300, min_count=100, workers=cores-1, epochs=1)"
   ]
  },
  {
   "cell_type": "code",
   "execution_count": null,
   "metadata": {},
   "outputs": [],
   "source": [
    "latin_w2v_model.save(\"../models/latin_w2v_bamman_lemma300_100_1\")"
   ]
  }
 ],
 "metadata": {
  "kernelspec": {
   "display_name": "Python 3",
   "language": "python",
   "name": "python3"
  },
  "language_info": {
   "codemirror_mode": {
    "name": "ipython",
    "version": 3
   },
   "file_extension": ".py",
   "mimetype": "text/x-python",
   "name": "python",
   "nbconvert_exporter": "python",
   "pygments_lexer": "ipython3",
   "version": "3.9.20"
  }
 },
 "nbformat": 4,
 "nbformat_minor": 2
}
